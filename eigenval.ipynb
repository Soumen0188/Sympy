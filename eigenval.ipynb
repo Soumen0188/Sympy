{
 "cells": [
  {
   "cell_type": "code",
   "execution_count": 1,
   "id": "d8170482-1853-4b2c-a9c2-cb896e3e9dfc",
   "metadata": {},
   "outputs": [],
   "source": [
    "import numpy as np"
   ]
  },
  {
   "cell_type": "code",
   "execution_count": 2,
   "id": "5346d681-a787-4f8c-bae9-5b40ba4e7280",
   "metadata": {},
   "outputs": [],
   "source": [
    "# Define the Pauli matrices\n",
    "sigma_x = np.array([[0, 1], [1, 0]])\n",
    "sigma_y = np.array([[0, -1j], [1j, 0]])\n",
    "sigma_z = np.array([[1, 0], [0, -1]])"
   ]
  },
  {
   "cell_type": "code",
   "execution_count": 3,
   "id": "7c6bd31b-e137-4988-bd04-4ee6db91574f",
   "metadata": {},
   "outputs": [],
   "source": [
    "# Calculate the eigenvalues of the matrices\n",
    "eigenvalues_x = np.linalg.eigvals(sigma_x)\n",
    "eigenvalues_y = np.linalg.eigvals(sigma_y)\n",
    "eigenvalues_z = np.linalg.eigvals(sigma_z)"
   ]
  },
  {
   "cell_type": "code",
   "execution_count": 4,
   "id": "0805eed4-b969-42bb-abaf-960bb9309d4e",
   "metadata": {},
   "outputs": [
    {
     "data": {
      "text/plain": [
       "(array([ 1., -1.]), array([ 1.+0.j, -1.+0.j]), array([ 1., -1.]))"
      ]
     },
     "execution_count": 4,
     "metadata": {},
     "output_type": "execute_result"
    }
   ],
   "source": [
    "eigenvalues_x, eigenvalues_y, eigenvalues_z"
   ]
  }
 ],
 "metadata": {
  "kernelspec": {
   "display_name": "Python 3 (ipykernel)",
   "language": "python",
   "name": "python3"
  },
  "language_info": {
   "codemirror_mode": {
    "name": "ipython",
    "version": 3
   },
   "file_extension": ".py",
   "mimetype": "text/x-python",
   "name": "python",
   "nbconvert_exporter": "python",
   "pygments_lexer": "ipython3",
   "version": "3.8.10"
  }
 },
 "nbformat": 4,
 "nbformat_minor": 5
}
