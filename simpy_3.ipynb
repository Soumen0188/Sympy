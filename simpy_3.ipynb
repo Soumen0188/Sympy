{
 "cells": [
  {
   "cell_type": "code",
   "execution_count": 1,
   "metadata": {},
   "outputs": [],
   "source": [
    "import simpy"
   ]
  },
  {
   "cell_type": "code",
   "execution_count": 2,
   "metadata": {},
   "outputs": [],
   "source": [
    "def car(env, name, parking_lot, parking_duration):\n",
    "    print(f'{name} arriving at parking lot at {env.now:.2f}')\n",
    "    with parking_lot.request() as request:\n",
    "        yield request\n",
    "        print(f'{name} starts parking at {env.now:.2f}')\n",
    "        yield env.timeout(parking_duration)\n",
    "        print(f'{name} leaves parking lot at {env.now:.2f}')\n",
    "\n",
    "def car_park(env, num_parking_spaces, car_arrival_interval, parking_duration):\n",
    "    parking_lot = simpy.Resource(env, num_parking_spaces)\n",
    "    car_number = 0\n",
    "    while True:\n",
    "        yield env.timeout(car_arrival_interval)\n",
    "        car_number += 1\n",
    "        env.process(car(env, f'Car {car_number}', parking_lot, parking_duration))\n"
   ]
  },
  {
   "cell_type": "code",
   "execution_count": 3,
   "metadata": {},
   "outputs": [
    {
     "name": "stdout",
     "output_type": "stream",
     "text": [
      "Car 1 arriving at parking lot at 5.00\n",
      "Car 1 starts parking at 5.00\n",
      "Car 2 arriving at parking lot at 10.00\n",
      "Car 2 starts parking at 10.00\n",
      "Car 1 leaves parking lot at 12.00\n",
      "Car 3 arriving at parking lot at 15.00\n",
      "Car 3 starts parking at 15.00\n",
      "Car 2 leaves parking lot at 17.00\n",
      "Car 4 arriving at parking lot at 20.00\n",
      "Car 4 starts parking at 20.00\n",
      "Car 3 leaves parking lot at 22.00\n",
      "Car 5 arriving at parking lot at 25.00\n",
      "Car 5 starts parking at 25.00\n",
      "Car 4 leaves parking lot at 27.00\n"
     ]
    }
   ],
   "source": [
    "# Setup and start the simulation\n",
    "env = simpy.Environment()\n",
    "env.process(car_park(env, num_parking_spaces=2, car_arrival_interval=5, parking_duration=7))\n",
    "env.run(until=30)"
   ]
  },
  {
   "cell_type": "code",
   "execution_count": 4,
   "metadata": {},
   "outputs": [],
   "source": [
    "import simpy\n",
    "import random"
   ]
  },
  {
   "cell_type": "code",
   "execution_count": 5,
   "metadata": {},
   "outputs": [],
   "source": [
    "def customer(env, name, counter, service_time):\n",
    "    print(f'{name} arrives at the bank at {env.now:.2f}')\n",
    "    with counter.request() as request:\n",
    "        yield request\n",
    "        print(f'{name} starts being served at {env.now:.2f}')\n",
    "        yield env.timeout(service_time)\n",
    "        print(f'{name} leaves the bank at {env.now:.2f}')\n",
    "\n",
    "def customer_arrivals(env, counter):\n",
    "    customer_number = 0\n",
    "    while True:\n",
    "        yield env.timeout(random.expovariate(1))\n",
    "        customer_number += 1\n",
    "        service_time = random.expovariate(1/5)\n",
    "        env.process(customer(env, f'Customer {customer_number}', counter, service_time))"
   ]
  },
  {
   "cell_type": "code",
   "execution_count": 6,
   "metadata": {},
   "outputs": [
    {
     "name": "stdout",
     "output_type": "stream",
     "text": [
      "Customer 1 arrives at the bank at 0.45\n",
      "Customer 1 starts being served at 0.45\n",
      "Customer 2 arrives at the bank at 1.52\n",
      "Customer 2 starts being served at 1.52\n",
      "Customer 3 arrives at the bank at 2.06\n",
      "Customer 4 arrives at the bank at 2.21\n",
      "Customer 1 leaves the bank at 2.91\n",
      "Customer 3 starts being served at 2.91\n",
      "Customer 5 arrives at the bank at 3.64\n",
      "Customer 6 arrives at the bank at 3.78\n",
      "Customer 7 arrives at the bank at 4.31\n",
      "Customer 8 arrives at the bank at 5.31\n",
      "Customer 9 arrives at the bank at 6.12\n",
      "Customer 3 leaves the bank at 6.93\n",
      "Customer 4 starts being served at 6.93\n",
      "Customer 4 leaves the bank at 7.41\n",
      "Customer 5 starts being served at 7.41\n",
      "Customer 10 arrives at the bank at 8.24\n",
      "Customer 11 arrives at the bank at 8.59\n",
      "Customer 5 leaves the bank at 10.38\n",
      "Customer 6 starts being served at 10.38\n",
      "Customer 12 arrives at the bank at 10.71\n",
      "Customer 13 arrives at the bank at 11.45\n",
      "Customer 2 leaves the bank at 12.17\n",
      "Customer 7 starts being served at 12.17\n",
      "Customer 14 arrives at the bank at 13.32\n",
      "Customer 7 leaves the bank at 15.77\n",
      "Customer 8 starts being served at 15.77\n",
      "Customer 15 arrives at the bank at 16.61\n",
      "Customer 6 leaves the bank at 17.29\n",
      "Customer 9 starts being served at 17.29\n",
      "Customer 9 leaves the bank at 17.51\n",
      "Customer 10 starts being served at 17.51\n",
      "Customer 16 arrives at the bank at 18.33\n",
      "Customer 17 arrives at the bank at 18.85\n",
      "Customer 18 arrives at the bank at 19.93\n"
     ]
    }
   ],
   "source": [
    "# Setup and start the simulation\n",
    "env = simpy.Environment()\n",
    "counter = simpy.Resource(env, capacity=2)\n",
    "env.process(customer_arrivals(env, counter))\n",
    "env.run(until=20)"
   ]
  }
 ],
 "metadata": {
  "kernelspec": {
   "display_name": "Python 3",
   "language": "python",
   "name": "python3"
  },
  "language_info": {
   "codemirror_mode": {
    "name": "ipython",
    "version": 3
   },
   "file_extension": ".py",
   "mimetype": "text/x-python",
   "name": "python",
   "nbconvert_exporter": "python",
   "pygments_lexer": "ipython3",
   "version": "3.8.10"
  }
 },
 "nbformat": 4,
 "nbformat_minor": 2
}
