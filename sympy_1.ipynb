{
 "cells": [
  {
   "cell_type": "code",
   "execution_count": 1,
   "id": "5b3887c4-7f76-4d92-a0bf-5de7fb21c675",
   "metadata": {},
   "outputs": [],
   "source": [
    "import sympy as syp"
   ]
  },
  {
   "cell_type": "code",
   "execution_count": 2,
   "id": "2e0be70a-2e30-4641-8a02-ab568c585d78",
   "metadata": {},
   "outputs": [
    {
     "name": "stdout",
     "output_type": "stream",
     "text": [
      "Matrix([[-1.19287309935246], [1.27844411169911]])\n"
     ]
    }
   ],
   "source": [
    "from sympy import Symbol, nsolve\n",
    "x1 = Symbol('x1')\n",
    "x2 = Symbol('x2')\n",
    "f1 = 3 * x1**2 - 2 * x2**2 - 1\n",
    "f2 = x1**2 - 2 * x1 + x2**2 + 2 * x2 - 8\n",
    "print(nsolve((f1, f2), (x1, x2), (-1, 1)))"
   ]
  },
  {
   "cell_type": "code",
   "execution_count": 3,
   "id": "5ffe4c40-7e7c-481e-8a80-415be0833b2f",
   "metadata": {},
   "outputs": [
    {
     "data": {
      "text/latex": [
       "$\\displaystyle -5.1275785796264 \\cdot 10^{-17}$"
      ],
      "text/plain": [
       "-5.12757857962640e-17"
      ]
     },
     "execution_count": 3,
     "metadata": {},
     "output_type": "execute_result"
    }
   ],
   "source": [
    "from sympy import cos, nsolve, Symbol\n",
    "x = Symbol('x')\n",
    "f = cos(x) - x\n",
    "x_value = nsolve(f, x, 1); x_value\n",
    "f.evalf(subs={x: x_value})"
   ]
  },
  {
   "cell_type": "code",
   "execution_count": 4,
   "id": "fae480c8-1694-426c-ae1f-5581d1ebc185",
   "metadata": {},
   "outputs": [
    {
     "data": {
      "text/latex": [
       "$\\displaystyle \\left[\\begin{matrix}{A}_{0,0} & {A}_{0,1} & {A}_{0,2} & {A}_{0,3}\\\\{A}_{1,0} & {A}_{1,1} & {A}_{1,2} & {A}_{1,3}\\\\{A}_{2,0} & {A}_{2,1} & {A}_{2,2} & {A}_{2,3}\\\\{A}_{3,0} & {A}_{3,1} & {A}_{3,2} & {A}_{3,3}\\end{matrix}\\right]$"
      ],
      "text/plain": [
       "Matrix([\n",
       "[A[0, 0], A[0, 1], A[0, 2], A[0, 3]],\n",
       "[A[1, 0], A[1, 1], A[1, 2], A[1, 3]],\n",
       "[A[2, 0], A[2, 1], A[2, 2], A[2, 3]],\n",
       "[A[3, 0], A[3, 1], A[3, 2], A[3, 3]]])"
      ]
     },
     "execution_count": 4,
     "metadata": {},
     "output_type": "execute_result"
    }
   ],
   "source": [
    "from sympy import MatrixSymbol\n",
    "A = MatrixSymbol('A', 4, 4).as_explicit()\n",
    "A"
   ]
  },
  {
   "cell_type": "code",
   "execution_count": 5,
   "id": "9e0905f4-2ee4-45b6-83a0-6c97d1d624ad",
   "metadata": {},
   "outputs": [
    {
     "data": {
      "text/latex": [
       "$\\displaystyle {A}_{0,0} {A}_{1,1} {A}_{2,2} {A}_{3,3} - {A}_{0,0} {A}_{1,1} {A}_{2,3} {A}_{3,2} - {A}_{0,0} {A}_{1,2} {A}_{2,1} {A}_{3,3} + {A}_{0,0} {A}_{1,2} {A}_{2,3} {A}_{3,1} + {A}_{0,0} {A}_{1,3} {A}_{2,1} {A}_{3,2} - {A}_{0,0} {A}_{1,3} {A}_{2,2} {A}_{3,1} - {A}_{0,1} {A}_{1,0} {A}_{2,2} {A}_{3,3} + {A}_{0,1} {A}_{1,0} {A}_{2,3} {A}_{3,2} + {A}_{0,1} {A}_{1,2} {A}_{2,0} {A}_{3,3} - {A}_{0,1} {A}_{1,2} {A}_{2,3} {A}_{3,0} - {A}_{0,1} {A}_{1,3} {A}_{2,0} {A}_{3,2} + {A}_{0,1} {A}_{1,3} {A}_{2,2} {A}_{3,0} + {A}_{0,2} {A}_{1,0} {A}_{2,1} {A}_{3,3} - {A}_{0,2} {A}_{1,0} {A}_{2,3} {A}_{3,1} - {A}_{0,2} {A}_{1,1} {A}_{2,0} {A}_{3,3} + {A}_{0,2} {A}_{1,1} {A}_{2,3} {A}_{3,0} + {A}_{0,2} {A}_{1,3} {A}_{2,0} {A}_{3,1} - {A}_{0,2} {A}_{1,3} {A}_{2,1} {A}_{3,0} - {A}_{0,3} {A}_{1,0} {A}_{2,1} {A}_{3,2} + {A}_{0,3} {A}_{1,0} {A}_{2,2} {A}_{3,1} + {A}_{0,3} {A}_{1,1} {A}_{2,0} {A}_{3,2} - {A}_{0,3} {A}_{1,1} {A}_{2,2} {A}_{3,0} - {A}_{0,3} {A}_{1,2} {A}_{2,0} {A}_{3,1} + {A}_{0,3} {A}_{1,2} {A}_{2,1} {A}_{3,0}$"
      ],
      "text/plain": [
       "A[0, 0]*A[1, 1]*A[2, 2]*A[3, 3] - A[0, 0]*A[1, 1]*A[2, 3]*A[3, 2] - A[0, 0]*A[1, 2]*A[2, 1]*A[3, 3] + A[0, 0]*A[1, 2]*A[2, 3]*A[3, 1] + A[0, 0]*A[1, 3]*A[2, 1]*A[3, 2] - A[0, 0]*A[1, 3]*A[2, 2]*A[3, 1] - A[0, 1]*A[1, 0]*A[2, 2]*A[3, 3] + A[0, 1]*A[1, 0]*A[2, 3]*A[3, 2] + A[0, 1]*A[1, 2]*A[2, 0]*A[3, 3] - A[0, 1]*A[1, 2]*A[2, 3]*A[3, 0] - A[0, 1]*A[1, 3]*A[2, 0]*A[3, 2] + A[0, 1]*A[1, 3]*A[2, 2]*A[3, 0] + A[0, 2]*A[1, 0]*A[2, 1]*A[3, 3] - A[0, 2]*A[1, 0]*A[2, 3]*A[3, 1] - A[0, 2]*A[1, 1]*A[2, 0]*A[3, 3] + A[0, 2]*A[1, 1]*A[2, 3]*A[3, 0] + A[0, 2]*A[1, 3]*A[2, 0]*A[3, 1] - A[0, 2]*A[1, 3]*A[2, 1]*A[3, 0] - A[0, 3]*A[1, 0]*A[2, 1]*A[3, 2] + A[0, 3]*A[1, 0]*A[2, 2]*A[3, 1] + A[0, 3]*A[1, 1]*A[2, 0]*A[3, 2] - A[0, 3]*A[1, 1]*A[2, 2]*A[3, 0] - A[0, 3]*A[1, 2]*A[2, 0]*A[3, 1] + A[0, 3]*A[1, 2]*A[2, 1]*A[3, 0]"
      ]
     },
     "execution_count": 5,
     "metadata": {},
     "output_type": "execute_result"
    }
   ],
   "source": [
    "A.det()"
   ]
  }
 ],
 "metadata": {
  "kernelspec": {
   "display_name": "Python 3 (ipykernel)",
   "language": "python",
   "name": "python3"
  },
  "language_info": {
   "codemirror_mode": {
    "name": "ipython",
    "version": 3
   },
   "file_extension": ".py",
   "mimetype": "text/x-python",
   "name": "python",
   "nbconvert_exporter": "python",
   "pygments_lexer": "ipython3",
   "version": "3.12.5"
  }
 },
 "nbformat": 4,
 "nbformat_minor": 5
}
