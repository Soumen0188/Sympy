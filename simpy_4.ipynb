{
 "cells": [
  {
   "cell_type": "code",
   "execution_count": 1,
   "metadata": {},
   "outputs": [],
   "source": [
    "import simpy\n",
    "import random"
   ]
  },
  {
   "cell_type": "code",
   "execution_count": 2,
   "metadata": {},
   "outputs": [],
   "source": [
    "def car(env, name, gas_station, fuel_pump_rate, fuel_needed):\n",
    "    print(f'{name} arriving at gas station at {env.now:.2f}')\n",
    "    with gas_station.request() as request:\n",
    "        yield request\n",
    "        print(f'{name} starts refueling at {env.now:.2f}')\n",
    "        refueling_time = fuel_needed / fuel_pump_rate\n",
    "        yield env.timeout(refueling_time)\n",
    "        print(f'{name} finished refueling at {env.now:.2f}')\n",
    "\n",
    "def car_arrivals(env, gas_station, fuel_pump_rate):\n",
    "    car_number = 0\n",
    "    while True:\n",
    "        yield env.timeout(random.expovariate(1/10))  # Cars arrive at random intervals\n",
    "        car_number += 1\n",
    "        fuel_needed = random.uniform(5, 15)  # Cars need between 5 and 15 liters of fuel\n",
    "        env.process(car(env, f'Car {car_number}', gas_station, fuel_pump_rate, fuel_needed))\n"
   ]
  },
  {
   "cell_type": "code",
   "execution_count": 3,
   "metadata": {},
   "outputs": [
    {
     "name": "stdout",
     "output_type": "stream",
     "text": [
      "Car 1 arriving at gas station at 13.77\n",
      "Car 1 starts refueling at 13.77\n",
      "Car 1 finished refueling at 17.85\n",
      "Car 2 arriving at gas station at 18.48\n",
      "Car 2 starts refueling at 18.48\n",
      "Car 2 finished refueling at 24.99\n",
      "Car 3 arriving at gas station at 41.55\n",
      "Car 3 starts refueling at 41.55\n",
      "Car 3 finished refueling at 46.06\n"
     ]
    }
   ],
   "source": [
    "# Setup and start the simulation\n",
    "env = simpy.Environment()\n",
    "gas_station = simpy.Resource(env, capacity=3)  # Gas station with 3 fuel pumps\n",
    "fuel_pump_rate = 2  # Liters per minute\n",
    "env.process(car_arrivals(env, gas_station, fuel_pump_rate))\n",
    "env.run(until=50)"
   ]
  }
 ],
 "metadata": {
  "kernelspec": {
   "display_name": "Python 3",
   "language": "python",
   "name": "python3"
  },
  "language_info": {
   "codemirror_mode": {
    "name": "ipython",
    "version": 3
   },
   "file_extension": ".py",
   "mimetype": "text/x-python",
   "name": "python",
   "nbconvert_exporter": "python",
   "pygments_lexer": "ipython3",
   "version": "3.8.10"
  }
 },
 "nbformat": 4,
 "nbformat_minor": 2
}
