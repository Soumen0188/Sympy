{
 "cells": [
  {
   "cell_type": "code",
   "execution_count": 1,
   "metadata": {},
   "outputs": [],
   "source": [
    "import simpy\n",
    "import random"
   ]
  },
  {
   "cell_type": "code",
   "execution_count": 2,
   "metadata": {},
   "outputs": [],
   "source": [
    "# Define the parameters\n",
    "RANDOM_SEED = 42\n",
    "NUM_CASHIERS = 1  # Number of cashiers in the store\n",
    "SIM_TIME = 20  # Simulation time in minutes\n",
    "INTERARRIVAL_TIME = 2  # Time between customer arrivals"
   ]
  },
  {
   "cell_type": "code",
   "execution_count": 3,
   "metadata": {},
   "outputs": [],
   "source": [
    "class Store:\n",
    "    def __init__(self, env, num_cashiers):\n",
    "        self.env = env\n",
    "        self.cashier = simpy.Resource(env, num_cashiers)\n",
    "\n",
    "    def serve_customer(self, customer):\n",
    "        service_time = random.expovariate(1.0 / 5)  # Service time between 3 to 7 minutes\n",
    "        yield self.env.timeout(service_time)\n",
    "        print(f\"{customer} finished at {self.env.now:.2f} minutes\")\n",
    "\n",
    "def customer(env, name, store):\n",
    "    print(f\"{name} arrives at {env.now:.2f} minutes\")\n",
    "    with store.cashier.request() as request:\n",
    "        yield request\n",
    "        print(f\"{name} starts service at {env.now:.2f} minutes\")\n",
    "        yield env.process(store.serve_customer(name))\n",
    "\n",
    "def setup(env, num_cashiers):\n",
    "    store = Store(env, num_cashiers)\n",
    "    \n",
    "    # Generate initial customers\n",
    "    for i in range(3):\n",
    "        env.process(customer(env, f'Customer {i+1}', store))\n",
    "\n",
    "    # Generate more customers while the simulation is running\n",
    "    while True:\n",
    "        yield env.timeout(random.expovariate(1.0 / INTERARRIVAL_TIME))\n",
    "        i += 1\n",
    "        env.process(customer(env, f'Customer {i+1}', store))\n"
   ]
  },
  {
   "cell_type": "code",
   "execution_count": 4,
   "metadata": {},
   "outputs": [
    {
     "name": "stdout",
     "output_type": "stream",
     "text": [
      "Store Simulation\n",
      "Customer 1 arrives at 0.00 minutes\n",
      "Customer 2 arrives at 0.00 minutes\n",
      "Customer 3 arrives at 0.00 minutes\n",
      "Customer 1 starts service at 0.00 minutes\n",
      "Customer 1 finished at 0.13 minutes\n",
      "Customer 2 starts service at 0.13 minutes\n",
      "Customer 2 finished at 1.73 minutes\n",
      "Customer 3 starts service at 1.73 minutes\n",
      "Customer 4 arrives at 2.04 minutes\n",
      "Customer 3 finished at 3.00 minutes\n",
      "Customer 4 starts service at 3.00 minutes\n",
      "Customer 5 arrives at 4.71 minutes\n",
      "Customer 4 finished at 8.64 minutes\n",
      "Customer 5 starts service at 8.64 minutes\n",
      "Customer 5 finished at 9.10 minutes\n",
      "Customer 6 arrives at 9.16 minutes\n",
      "Customer 6 starts service at 9.16 minutes\n",
      "Customer 6 finished at 9.31 minutes\n",
      "Customer 7 arrives at 10.26 minutes\n",
      "Customer 7 starts service at 10.26 minutes\n",
      "Customer 8 arrives at 10.75 minutes\n",
      "Customer 9 arrives at 10.81 minutes\n",
      "Customer 10 arrives at 11.25 minutes\n",
      "Customer 11 arrives at 13.35 minutes\n",
      "Customer 7 finished at 13.78 minutes\n",
      "Customer 8 starts service at 13.78 minutes\n",
      "Customer 12 arrives at 14.92 minutes\n",
      "Customer 8 finished at 15.02 minutes\n",
      "Customer 9 starts service at 15.02 minutes\n",
      "Customer 13 arrives at 16.70 minutes\n",
      "Customer 14 arrives at 16.71 minutes\n",
      "Customer 15 arrives at 19.99 minutes\n"
     ]
    }
   ],
   "source": [
    "# Set up the environment and run the simulation\n",
    "print('Store Simulation')\n",
    "random.seed(RANDOM_SEED)\n",
    "env = simpy.Environment()\n",
    "env.process(setup(env, NUM_CASHIERS))\n",
    "env.run(until=SIM_TIME)"
   ]
  }
 ],
 "metadata": {
  "kernelspec": {
   "display_name": "Python 3 (ipykernel)",
   "language": "python",
   "name": "python3"
  },
  "language_info": {
   "codemirror_mode": {
    "name": "ipython",
    "version": 3
   },
   "file_extension": ".py",
   "mimetype": "text/x-python",
   "name": "python",
   "nbconvert_exporter": "python",
   "pygments_lexer": "ipython3",
   "version": "3.12.5"
  }
 },
 "nbformat": 4,
 "nbformat_minor": 4
}
