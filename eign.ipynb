{
 "cells": [
  {
   "cell_type": "code",
   "execution_count": 1,
   "id": "8e491f0e-2759-4a17-99ea-8ec011d23762",
   "metadata": {},
   "outputs": [],
   "source": [
    "import sympy as sp"
   ]
  },
  {
   "cell_type": "code",
   "execution_count": 2,
   "id": "50549634-e63e-4150-9b6b-05a3550940a9",
   "metadata": {},
   "outputs": [],
   "source": [
    "# Define the symbol for the eigenvalue\n",
    "lambda_symbol = sp.symbols('lambda')"
   ]
  },
  {
   "cell_type": "code",
   "execution_count": 3,
   "id": "ac11c496-96ae-4ff5-92a9-e58ba71756d2",
   "metadata": {},
   "outputs": [],
   "source": [
    "# Define the Pauli matrices using sympy\n",
    "sigma_x = sp.Matrix([[0, 1], [1, 0]])\n",
    "sigma_y = sp.Matrix([[0, -sp.I], [sp.I, 0]])\n",
    "sigma_z = sp.Matrix([[1, 0], [0, -1]])"
   ]
  },
  {
   "cell_type": "code",
   "execution_count": 4,
   "id": "3c864ab6-8a48-4228-871b-5e81d6492d97",
   "metadata": {},
   "outputs": [],
   "source": [
    "# Calculate the eigenvalues\n",
    "eigenvalues_x = sigma_x.eigenvals()\n",
    "eigenvalues_y = sigma_y.eigenvals()\n",
    "eigenvalues_z = sigma_z.eigenvals()"
   ]
  },
  {
   "cell_type": "code",
   "execution_count": 5,
   "id": "cb1ca6ea-8138-4e13-9719-f83234691eab",
   "metadata": {},
   "outputs": [
    {
     "data": {
      "text/plain": [
       "({-1: 1, 1: 1}, {-1: 1, 1: 1}, {1: 1, -1: 1})"
      ]
     },
     "execution_count": 5,
     "metadata": {},
     "output_type": "execute_result"
    }
   ],
   "source": [
    "eigenvalues_x, eigenvalues_y, eigenvalues_z"
   ]
  }
 ],
 "metadata": {
  "kernelspec": {
   "display_name": "Python 3 (ipykernel)",
   "language": "python",
   "name": "python3"
  },
  "language_info": {
   "codemirror_mode": {
    "name": "ipython",
    "version": 3
   },
   "file_extension": ".py",
   "mimetype": "text/x-python",
   "name": "python",
   "nbconvert_exporter": "python",
   "pygments_lexer": "ipython3",
   "version": "3.12.5"
  }
 },
 "nbformat": 4,
 "nbformat_minor": 5
}
