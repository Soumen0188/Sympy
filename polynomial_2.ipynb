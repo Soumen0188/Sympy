{
 "cells": [
  {
   "cell_type": "code",
   "execution_count": 2,
   "id": "6d8d3b3b-29aa-435a-894f-568016c62f6c",
   "metadata": {},
   "outputs": [],
   "source": [
    "import sympy as sp"
   ]
  },
  {
   "cell_type": "code",
   "execution_count": 4,
   "id": "f4e8002f-33f5-4c42-a5c4-18d6175d8c8d",
   "metadata": {},
   "outputs": [],
   "source": [
    "# Define the variable\n",
    "x = sp.symbols('x')"
   ]
  },
  {
   "cell_type": "code",
   "execution_count": 5,
   "id": "8be3fc43-6151-41cc-9b25-75ad7a2940ed",
   "metadata": {},
   "outputs": [
    {
     "name": "stdout",
     "output_type": "stream",
     "text": [
      "[(-b - sqrt(-4*a*c + b**2))/(2*a), (-b + sqrt(-4*a*c + b**2))/(2*a)]\n"
     ]
    }
   ],
   "source": [
    "# Define additional symbols\n",
    "a, b, c = sp.symbols('a b c')\n",
    "\n",
    "# Define the polynomial equation with symbolic coefficients\n",
    "equation = a*x**2 + b*x + c\n",
    "\n",
    "# Solve the equation\n",
    "solutions = sp.solve(equation, x)\n",
    "\n",
    "# Print the solutions\n",
    "print(solutions)"
   ]
  }
 ],
 "metadata": {
  "kernelspec": {
   "display_name": "Python 3 (ipykernel)",
   "language": "python",
   "name": "python3"
  },
  "language_info": {
   "codemirror_mode": {
    "name": "ipython",
    "version": 3
   },
   "file_extension": ".py",
   "mimetype": "text/x-python",
   "name": "python",
   "nbconvert_exporter": "python",
   "pygments_lexer": "ipython3",
   "version": "3.8.10"
  }
 },
 "nbformat": 4,
 "nbformat_minor": 5
}
