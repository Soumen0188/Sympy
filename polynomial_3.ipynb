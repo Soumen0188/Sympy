{
 "cells": [
  {
   "cell_type": "code",
   "execution_count": 1,
   "metadata": {},
   "outputs": [],
   "source": [
    "from sympy import symbols, solve"
   ]
  },
  {
   "cell_type": "code",
   "execution_count": 4,
   "metadata": {},
   "outputs": [],
   "source": [
    "# Define the variable and the equation\n",
    "x = symbols('x')\n",
    "equation = x**5 - 3*x**4 - 6*x**3 + 18*x**2 - 55*x + 160"
   ]
  },
  {
   "cell_type": "code",
   "execution_count": 6,
   "metadata": {},
   "outputs": [
    {
     "data": {
      "text/plain": [
       "[CRootOf(x**5 - 3*x**4 - 6*x**3 + 18*x**2 - 55*x + 160, 0),\n",
       " CRootOf(x**5 - 3*x**4 - 6*x**3 + 18*x**2 - 55*x + 160, 1),\n",
       " CRootOf(x**5 - 3*x**4 - 6*x**3 + 18*x**2 - 55*x + 160, 2),\n",
       " CRootOf(x**5 - 3*x**4 - 6*x**3 + 18*x**2 - 55*x + 160, 3),\n",
       " CRootOf(x**5 - 3*x**4 - 6*x**3 + 18*x**2 - 55*x + 160, 4)]"
      ]
     },
     "execution_count": 6,
     "metadata": {},
     "output_type": "execute_result"
    }
   ],
   "source": [
    "# Solve the equation\n",
    "solutions = solve(equation, x)\n",
    "solutions"
   ]
  }
 ],
 "metadata": {
  "kernelspec": {
   "display_name": "Python 3 (ipykernel)",
   "language": "python",
   "name": "python3"
  },
  "language_info": {
   "codemirror_mode": {
    "name": "ipython",
    "version": 3
   },
   "file_extension": ".py",
   "mimetype": "text/x-python",
   "name": "python",
   "nbconvert_exporter": "python",
   "pygments_lexer": "ipython3",
   "version": "3.12.5"
  }
 },
 "nbformat": 4,
 "nbformat_minor": 4
}
