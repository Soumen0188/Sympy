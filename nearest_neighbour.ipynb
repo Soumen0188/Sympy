{
 "cells": [
  {
   "cell_type": "code",
   "execution_count": 1,
   "metadata": {},
   "outputs": [],
   "source": [
    "import numpy as np\n",
    "from collections import Counter"
   ]
  },
  {
   "cell_type": "code",
   "execution_count": 2,
   "metadata": {},
   "outputs": [],
   "source": [
    "# Define the Euclidean distance function\n",
    "def euclidean_distance(x1, x2):\n",
    "    return np.sqrt(np.sum((x1 - x2) ** 2))"
   ]
  },
  {
   "cell_type": "code",
   "execution_count": 3,
   "metadata": {},
   "outputs": [],
   "source": [
    "# Define the k-NN algorithm\n",
    "def k_nearest_neighbors(X_train, y_train, X_test, k=3):\n",
    "    predictions = []\n",
    "    \n",
    "    for test_point in X_test:\n",
    "        # Calculate the distances from the test point to all training points\n",
    "        distances = [euclidean_distance(test_point, x_train) for x_train in X_train]\n",
    "        \n",
    "        # Get the indices of the k nearest neighbors\n",
    "        k_indices = np.argsort(distances)[:k]\n",
    "        \n",
    "        # Get the labels of the k nearest neighbors\n",
    "        k_nearest_labels = [y_train[i] for i in k_indices]\n",
    "        \n",
    "        # Determine the most common label among the neighbors\n",
    "        most_common_label = Counter(k_nearest_labels).most_common(1)[0][0]\n",
    "        \n",
    "        # Append the prediction to the list\n",
    "        predictions.append(most_common_label)\n",
    "    \n",
    "    return predictions"
   ]
  },
  {
   "cell_type": "code",
   "execution_count": 4,
   "metadata": {},
   "outputs": [
    {
     "name": "stdout",
     "output_type": "stream",
     "text": [
      "Predictions: [np.int64(0), np.int64(1)]\n"
     ]
    }
   ],
   "source": [
    "# Example usage\n",
    "if __name__ == \"__main__\":\n",
    "    # Sample training data (X_train: features, y_train: labels)\n",
    "    X_train = np.array([[1, 2], [2, 3], [3, 4], [6, 7], [7, 8], [8, 9]])\n",
    "    y_train = np.array([0, 0, 0, 1, 1, 1])\n",
    "    \n",
    "    # Sample test data\n",
    "    X_test = np.array([[2, 3], [5, 6]])\n",
    "    \n",
    "    # Set the number of neighbors\n",
    "    k = 3\n",
    "    \n",
    "    # Make predictions\n",
    "    predictions = k_nearest_neighbors(X_train, y_train, X_test, k)\n",
    "    \n",
    "    print(\"Predictions:\", predictions)"
   ]
  }
 ],
 "metadata": {
  "kernelspec": {
   "display_name": "Python 3 (ipykernel)",
   "language": "python",
   "name": "python3"
  },
  "language_info": {
   "codemirror_mode": {
    "name": "ipython",
    "version": 3
   },
   "file_extension": ".py",
   "mimetype": "text/x-python",
   "name": "python",
   "nbconvert_exporter": "python",
   "pygments_lexer": "ipython3",
   "version": "3.12.5"
  }
 },
 "nbformat": 4,
 "nbformat_minor": 4
}
