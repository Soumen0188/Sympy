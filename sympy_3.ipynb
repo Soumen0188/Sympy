{
 "cells": [
  {
   "cell_type": "code",
   "execution_count": 1,
   "metadata": {},
   "outputs": [],
   "source": [
    "from sympy import solve, Poly, Eq, Matrix, Symbol\n",
    "from sympy.abc import x, y, z, a, b"
   ]
  },
  {
   "cell_type": "code",
   "execution_count": 2,
   "metadata": {},
   "outputs": [
    {
     "data": {
      "text/plain": [
       "True"
      ]
     },
     "execution_count": 2,
     "metadata": {},
     "output_type": "execute_result"
    }
   ],
   "source": [
    "solve(x - 3, x)\n",
    "solve(Eq(x, 3), x)\n",
    "solve(Poly(x - 3), x)\n",
    "solve(Matrix([[x, x + y]]), x, y) == solve([x, x + y], x, y)"
   ]
  },
  {
   "cell_type": "code",
   "execution_count": 3,
   "metadata": {},
   "outputs": [
    {
     "data": {
      "text/plain": [
       "[{x: 3, y: -1}, {x: 3, y: 1}]"
      ]
     },
     "execution_count": 3,
     "metadata": {},
     "output_type": "execute_result"
    }
   ],
   "source": [
    "solve(x**2 - 4)\n",
    "solve((x - a)*(y - b))\n",
    "solve([x - 3, y - 1])\n",
    "solve([x - 3, y**2 - 1])"
   ]
  },
  {
   "cell_type": "code",
   "execution_count": 4,
   "metadata": {},
   "outputs": [
    {
     "data": {
      "text/plain": [
       "e              | s      | solve(e, s)  | solve(e, s, dict=True) | solve(e, s, set=True)\n",
       "---------------------------------------------------------------------------------------\n",
       "x - y          | y      | [x]          | [{y: x}]               | ([y], {(x,)})        \n",
       "x - y          | [x, y] | [(y, y)]     | [{x: y}]               | ([x, y], {(y, y)})   \n",
       "x**2 - y       | [x, y] | [(x, x**2)]  | [{y: x**2}]            | ([x, y], {(x, x**2)})\n",
       "[x - 3, y - 1] | [x, y] | {x: 3, y: 1} | [{x: 3, y: 1}]         | ([x, y], {(3, 1)})   "
      ]
     },
     "execution_count": 4,
     "metadata": {},
     "output_type": "execute_result"
    }
   ],
   "source": [
    "#### *** feel free to skip to the stars below *** ####\n",
    "from sympy import TableForm\n",
    "h = [None, ';|;'.join(['e', 's', 'solve(e, s)', 'solve(e, s, dict=True)',\n",
    "'solve(e, s, set=True)']).split(';')]\n",
    "t = []\n",
    "for e, s in [\n",
    "        (x - y, y),\n",
    "        (x - y, [x, y]),\n",
    "        (x**2 - y, [x, y]),\n",
    "        ([x - 3, y -1], [x, y]),\n",
    "        ]:\n",
    "    how = [{}, dict(dict=True), dict(set=True)]\n",
    "    res = [solve(e, s, **f) for f in how]\n",
    "    t.append([e, '|', s, '|'] + [res[0], '|', res[1], '|', res[2]])\n",
    "# ******************************************************* #\n",
    "TableForm(t, headings=h, alignments=\"<\")"
   ]
  },
  {
   "cell_type": "code",
   "execution_count": 5,
   "metadata": {},
   "outputs": [
    {
     "data": {
      "text/plain": [
       "{a: -b/x + (2*x + 3)/x}"
      ]
     },
     "execution_count": 5,
     "metadata": {},
     "output_type": "execute_result"
    }
   ],
   "source": [
    "e = a*x + b - 2*x - 3\n",
    "solve(e, [a, b])\n",
    "solve([e], [a, b])"
   ]
  },
  {
   "cell_type": "code",
   "execution_count": 6,
   "metadata": {},
   "outputs": [
    {
     "data": {
      "text/plain": [
       "{x: y}"
      ]
     },
     "execution_count": 6,
     "metadata": {},
     "output_type": "execute_result"
    }
   ],
   "source": [
    "solve([x - y, y - 3], x)"
   ]
  },
  {
   "cell_type": "code",
   "execution_count": 7,
   "metadata": {},
   "outputs": [
    {
     "data": {
      "text/plain": [
       "([x], set())"
      ]
     },
     "execution_count": 7,
     "metadata": {},
     "output_type": "execute_result"
    }
   ],
   "source": [
    "from sympy import sqrt\n",
    "solve(3, x)\n",
    "solve(x - 3, y)\n",
    "solve(sqrt(x) + 1, x, set=True)"
   ]
  },
  {
   "cell_type": "code",
   "execution_count": 8,
   "metadata": {},
   "outputs": [],
   "source": [
    "from sympy import exp, Function\n",
    "f = Function('f')"
   ]
  },
  {
   "cell_type": "code",
   "execution_count": 9,
   "metadata": {},
   "outputs": [
    {
     "data": {
      "text/plain": [
       "([exp(x)], {(-sqrt(-x),), (sqrt(-x),)})"
      ]
     },
     "execution_count": 9,
     "metadata": {},
     "output_type": "execute_result"
    }
   ],
   "source": [
    "solve(f(x) - x, f(x))\n",
    "solve(f(x).diff(x) - f(x) - x, f(x).diff(x))\n",
    "solve(f(x).diff(x) - f(x) - x, f(x))\n",
    "solve(x + exp(x)**2, exp(x), set=True)"
   ]
  },
  {
   "cell_type": "code",
   "execution_count": 10,
   "metadata": {},
   "outputs": [
    {
     "data": {
      "text/plain": [
       "{A[1]: 1, A[2]: 2}"
      ]
     },
     "execution_count": 10,
     "metadata": {},
     "output_type": "execute_result"
    }
   ],
   "source": [
    "from sympy import Indexed, IndexedBase, Tuple\n",
    "A = IndexedBase('A')\n",
    "eqs = Tuple(A[1] + A[2] - 3, A[1] - A[2] + 1)\n",
    "solve(eqs, eqs.atoms(Indexed))"
   ]
  },
  {
   "cell_type": "code",
   "execution_count": 11,
   "metadata": {},
   "outputs": [
    {
     "data": {
      "text/plain": [
       "[-exp(x)]"
      ]
     },
     "execution_count": 11,
     "metadata": {},
     "output_type": "execute_result"
    }
   ],
   "source": [
    "solve(x + exp(x), x)\n",
    "solve(x + exp(x), x, implicit=True)"
   ]
  },
  {
   "cell_type": "code",
   "execution_count": 12,
   "metadata": {},
   "outputs": [
    {
     "data": {
      "text/plain": [
       "{y: -2 + sqrt(3), x + 2: -sqrt(3)}"
      ]
     },
     "execution_count": 12,
     "metadata": {},
     "output_type": "execute_result"
    }
   ],
   "source": [
    "solve(x + 2 + sqrt(3), x + 2)\n",
    "solve((x + 2 + sqrt(3), x + 4 + y), y, x + 2)"
   ]
  },
  {
   "cell_type": "code",
   "execution_count": 13,
   "metadata": {},
   "outputs": [
    {
     "data": {
      "text/plain": [
       "{x: -y - 4, x*y: -3*y - sqrt(3)}"
      ]
     },
     "execution_count": 13,
     "metadata": {},
     "output_type": "execute_result"
    }
   ],
   "source": [
    "eqs = (x*y + 3*y + sqrt(3), x + 4 + y)\n",
    "solve(eqs, y, x + 2)\n",
    "solve(eqs, y*x, x)"
   ]
  },
  {
   "cell_type": "code",
   "execution_count": 14,
   "metadata": {},
   "outputs": [
    {
     "data": {
      "text/plain": [
       "[-x + y]"
      ]
     },
     "execution_count": 14,
     "metadata": {},
     "output_type": "execute_result"
    }
   ],
   "source": [
    "solve(sqrt(2) - 1, 1)\n",
    "solve(x - y + 1, 1)  # /!\\ -1 is targeted, too\n",
    "[_.subs(z, -1) for _ in solve((x - y + 1).subs(-1, z), 1)]"
   ]
  },
  {
   "cell_type": "code",
   "execution_count": 15,
   "metadata": {},
   "outputs": [],
   "source": [
    "from sympy import Matrix, solve_linear_system\n",
    "from sympy.abc import x, y"
   ]
  },
  {
   "cell_type": "code",
   "execution_count": 16,
   "metadata": {},
   "outputs": [],
   "source": [
    "# Define the augmented matrix of the system\n",
    "# The matrix should include coefficients of x, y, and the constants on the right-hand side of the equations\n",
    "system_matrix = Matrix([\n",
    "    [1, 4, 2],  # Coefficients of x, y and the constant in the first equation\n",
    "    [-2, 1, 14] # Coefficients of x, y and the constant in the second equation\n",
    "])"
   ]
  },
  {
   "cell_type": "code",
   "execution_count": 17,
   "metadata": {},
   "outputs": [
    {
     "name": "stdout",
     "output_type": "stream",
     "text": [
      "{x: -6, y: 2}\n"
     ]
    }
   ],
   "source": [
    "# Solve the system\n",
    "solution = solve_linear_system(system_matrix, x, y)\n",
    "print(solution)"
   ]
  }
 ],
 "metadata": {
  "kernelspec": {
   "display_name": "Python 3",
   "language": "python",
   "name": "python3"
  },
  "language_info": {
   "codemirror_mode": {
    "name": "ipython",
    "version": 3
   },
   "file_extension": ".py",
   "mimetype": "text/x-python",
   "name": "python",
   "nbconvert_exporter": "python",
   "pygments_lexer": "ipython3",
   "version": "3.8.10"
  }
 },
 "nbformat": 4,
 "nbformat_minor": 2
}
