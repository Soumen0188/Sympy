{
 "cells": [
  {
   "cell_type": "code",
   "execution_count": 1,
   "id": "991a9ebb-6522-46a7-bea7-7abb94c884da",
   "metadata": {},
   "outputs": [],
   "source": [
    "import sympy as sp"
   ]
  },
  {
   "cell_type": "code",
   "execution_count": 2,
   "id": "b88dc694-5ea3-453e-854b-0309ec1512f3",
   "metadata": {},
   "outputs": [],
   "source": [
    "# Define the variable\n",
    "x = sp.symbols('x')"
   ]
  },
  {
   "cell_type": "code",
   "execution_count": 3,
   "id": "2ff15075-8d08-4b92-acad-5fd915817c10",
   "metadata": {},
   "outputs": [],
   "source": [
    "# Define the polynomial equation\n",
    "equation = x**2 - 5*x + 6"
   ]
  },
  {
   "cell_type": "code",
   "execution_count": 4,
   "id": "da61f3e1-6a10-42b4-b15a-432c67e369ff",
   "metadata": {},
   "outputs": [],
   "source": [
    "# Solve the equation\n",
    "solutions = sp.solve(equation, x)"
   ]
  },
  {
   "cell_type": "code",
   "execution_count": 5,
   "id": "b362b1b6-fc5f-4302-822f-7ae06954b830",
   "metadata": {},
   "outputs": [
    {
     "name": "stdout",
     "output_type": "stream",
     "text": [
      "[2, 3]\n"
     ]
    }
   ],
   "source": [
    "# Print the solutions\n",
    "print(solutions)"
   ]
  },
  {
   "cell_type": "code",
   "execution_count": null,
   "id": "e383a63f-35e1-4a70-bab0-4f0999c2fe49",
   "metadata": {},
   "outputs": [],
   "source": []
  }
 ],
 "metadata": {
  "kernelspec": {
   "display_name": "Python 3 (ipykernel)",
   "language": "python",
   "name": "python3"
  },
  "language_info": {
   "codemirror_mode": {
    "name": "ipython",
    "version": 3
   },
   "file_extension": ".py",
   "mimetype": "text/x-python",
   "name": "python",
   "nbconvert_exporter": "python",
   "pygments_lexer": "ipython3",
   "version": "3.12.5"
  }
 },
 "nbformat": 4,
 "nbformat_minor": 5
}
